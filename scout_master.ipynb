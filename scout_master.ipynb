{
 "cells": [
  {
   "cell_type": "markdown",
   "id": "e1e6a76c",
   "metadata": {},
   "source": [
    "### Pip installs"
   ]
  },
  {
   "cell_type": "code",
   "execution_count": 1,
   "id": "11316428",
   "metadata": {},
   "outputs": [],
   "source": [
    "#!pip3 install torch torchvision torchaudio"
   ]
  },
  {
   "cell_type": "markdown",
   "id": "5c8951b7",
   "metadata": {},
   "source": [
    "### Requeriments txt"
   ]
  },
  {
   "cell_type": "code",
   "execution_count": 2,
   "id": "aeedca7e",
   "metadata": {},
   "outputs": [],
   "source": [
    "#!cd yolov5 && pip install -r requirements.txt"
   ]
  },
  {
   "cell_type": "markdown",
   "id": "d1ce0bf4",
   "metadata": {},
   "source": [
    "### scout master"
   ]
  },
  {
   "cell_type": "code",
   "execution_count": 17,
   "id": "4a02d581",
   "metadata": {},
   "outputs": [],
   "source": [
    "import torch\n",
    "from matplotlib import pyplot as plt\n",
    "import numpy as np\n",
    "import cv2\n",
    "import os\n",
    "import shutil"
   ]
  },
  {
   "cell_type": "code",
   "execution_count": 4,
   "id": "317ac6be",
   "metadata": {},
   "outputs": [
    {
     "name": "stderr",
     "output_type": "stream",
     "text": [
      "Using cache found in /Users/barbaragdias/.cache/torch/hub/ultralytics_yolov5_master\n",
      "YOLOv5 🚀 2023-9-1 Python-3.9.12 torch-2.0.1 CPU\n",
      "\n",
      "Fusing layers... \n",
      "YOLOv5s summary: 213 layers, 7225885 parameters, 0 gradients\n",
      "Adding AutoShape... \n"
     ]
    }
   ],
   "source": [
    "model = torch.hub.load('ultralytics/yolov5','yolov5s')"
   ]
  },
  {
   "cell_type": "code",
   "execution_count": 6,
   "id": "111282d6",
   "metadata": {},
   "outputs": [],
   "source": [
    "#cap = cv2.VideoCapture(0)\n",
    "#while cap.isOpened():\n",
    "#    ret, frame = cap.read()\n",
    "#\n",
    "#    results= model(frame)\n",
    "#\n",
    "#    cv2.imshow('YOLO', np.squeeze(results.render()))\n",
    "#\n",
    "#    if cv2.waitKey(10) & 0xFF == ord('q'):\n",
    "#        break\n",
    "#cap.release()\n",
    "#cv2.destroyAllWindows()"
   ]
  },
  {
   "cell_type": "code",
   "execution_count": 2,
   "id": "6c7e2732",
   "metadata": {},
   "outputs": [],
   "source": [
    "#model"
   ]
  },
  {
   "cell_type": "code",
   "execution_count": null,
   "id": "d0adb851",
   "metadata": {},
   "outputs": [],
   "source": [
    "#train from scratch"
   ]
  },
  {
   "cell_type": "code",
   "execution_count": 2,
   "id": "3497e6d6",
   "metadata": {},
   "outputs": [],
   "source": [
    "import uuid\n",
    "import os\n",
    "import time"
   ]
  },
  {
   "cell_type": "code",
   "execution_count": 6,
   "id": "78b6fd2d",
   "metadata": {},
   "outputs": [],
   "source": [
    "IMAGES_PATH = os.path.join('data', 'images')\n",
    "labels = ['messi', 'ronaldo','neymar']\n",
    "number_imgs = 30"
   ]
  },
  {
   "cell_type": "code",
   "execution_count": 7,
   "id": "eea5e340",
   "metadata": {},
   "outputs": [
    {
     "name": "stdout",
     "output_type": "stream",
     "text": [
      "data/images/messi.240b22b4-4c36-11ee-ae5e-02054d71b90c.jpg\n"
     ]
    }
   ],
   "source": [
    "print(os.path.join(IMAGES_PATH, labels[0]+'.'+str(uuid.uuid1())+'.jpg'))"
   ]
  },
  {
   "cell_type": "code",
   "execution_count": 8,
   "id": "fdb52f1e",
   "metadata": {
    "collapsed": true
   },
   "outputs": [
    {
     "name": "stdout",
     "output_type": "stream",
     "text": [
      "Collecting images for messi\n",
      "Collecting images for messi, image number 0\n",
      "data/images/messi.2b2b2aa8-4c36-11ee-ae5e-02054d71b90c.jpg\n",
      "Collecting images for messi, image number 1\n",
      "data/images/messi.2b2b2e04-4c36-11ee-ae5e-02054d71b90c.jpg\n",
      "Collecting images for messi, image number 2\n",
      "data/images/messi.2b2b2fe4-4c36-11ee-ae5e-02054d71b90c.jpg\n",
      "Collecting images for messi, image number 3\n",
      "data/images/messi.2b2b3886-4c36-11ee-ae5e-02054d71b90c.jpg\n",
      "Collecting images for messi, image number 4\n",
      "data/images/messi.2b2b3ae8-4c36-11ee-ae5e-02054d71b90c.jpg\n",
      "Collecting images for messi, image number 5\n",
      "data/images/messi.2b2b3cbe-4c36-11ee-ae5e-02054d71b90c.jpg\n",
      "Collecting images for messi, image number 6\n",
      "data/images/messi.2b2b3fc0-4c36-11ee-ae5e-02054d71b90c.jpg\n",
      "Collecting images for messi, image number 7\n",
      "data/images/messi.2b2b41d2-4c36-11ee-ae5e-02054d71b90c.jpg\n",
      "Collecting images for messi, image number 8\n",
      "data/images/messi.2b2b4376-4c36-11ee-ae5e-02054d71b90c.jpg\n",
      "Collecting images for messi, image number 9\n",
      "data/images/messi.2b2b44c0-4c36-11ee-ae5e-02054d71b90c.jpg\n",
      "Collecting images for messi, image number 10\n",
      "data/images/messi.2b2b4664-4c36-11ee-ae5e-02054d71b90c.jpg\n",
      "Collecting images for messi, image number 11\n",
      "data/images/messi.2b2b481c-4c36-11ee-ae5e-02054d71b90c.jpg\n",
      "Collecting images for messi, image number 12\n",
      "data/images/messi.2b2b49de-4c36-11ee-ae5e-02054d71b90c.jpg\n",
      "Collecting images for messi, image number 13\n",
      "data/images/messi.2b2b4ba0-4c36-11ee-ae5e-02054d71b90c.jpg\n",
      "Collecting images for messi, image number 14\n",
      "data/images/messi.2b2b4d58-4c36-11ee-ae5e-02054d71b90c.jpg\n",
      "Collecting images for messi, image number 15\n",
      "data/images/messi.2b2b4f10-4c36-11ee-ae5e-02054d71b90c.jpg\n",
      "Collecting images for messi, image number 16\n",
      "data/images/messi.2b2b50dc-4c36-11ee-ae5e-02054d71b90c.jpg\n",
      "Collecting images for messi, image number 17\n",
      "data/images/messi.2b2b5708-4c36-11ee-ae5e-02054d71b90c.jpg\n",
      "Collecting images for messi, image number 18\n",
      "data/images/messi.2b2b5924-4c36-11ee-ae5e-02054d71b90c.jpg\n",
      "Collecting images for messi, image number 19\n",
      "data/images/messi.2b2b5b04-4c36-11ee-ae5e-02054d71b90c.jpg\n",
      "Collecting images for messi, image number 20\n",
      "data/images/messi.2b2b5cbc-4c36-11ee-ae5e-02054d71b90c.jpg\n",
      "Collecting images for messi, image number 21\n",
      "data/images/messi.2b2b5fa0-4c36-11ee-ae5e-02054d71b90c.jpg\n",
      "Collecting images for messi, image number 22\n",
      "data/images/messi.2b2b6144-4c36-11ee-ae5e-02054d71b90c.jpg\n",
      "Collecting images for messi, image number 23\n",
      "data/images/messi.2b2b62fc-4c36-11ee-ae5e-02054d71b90c.jpg\n",
      "Collecting images for messi, image number 24\n",
      "data/images/messi.2b2b64be-4c36-11ee-ae5e-02054d71b90c.jpg\n",
      "Collecting images for messi, image number 25\n",
      "data/images/messi.2b2b6978-4c36-11ee-ae5e-02054d71b90c.jpg\n",
      "Collecting images for messi, image number 26\n",
      "data/images/messi.2b2b6c02-4c36-11ee-ae5e-02054d71b90c.jpg\n",
      "Collecting images for messi, image number 27\n",
      "data/images/messi.2b2b6e14-4c36-11ee-ae5e-02054d71b90c.jpg\n",
      "Collecting images for messi, image number 28\n",
      "data/images/messi.2b2b7044-4c36-11ee-ae5e-02054d71b90c.jpg\n",
      "Collecting images for messi, image number 29\n",
      "data/images/messi.2b2b7206-4c36-11ee-ae5e-02054d71b90c.jpg\n",
      "Collecting images for ronaldo\n",
      "Collecting images for ronaldo, image number 0\n",
      "data/images/ronaldo.2b2b75c6-4c36-11ee-ae5e-02054d71b90c.jpg\n",
      "Collecting images for ronaldo, image number 1\n",
      "data/images/ronaldo.2b2b786e-4c36-11ee-ae5e-02054d71b90c.jpg\n",
      "Collecting images for ronaldo, image number 2\n",
      "data/images/ronaldo.2b2b7d32-4c36-11ee-ae5e-02054d71b90c.jpg\n",
      "Collecting images for ronaldo, image number 3\n",
      "data/images/ronaldo.2b2b80d4-4c36-11ee-ae5e-02054d71b90c.jpg\n",
      "Collecting images for ronaldo, image number 4\n",
      "data/images/ronaldo.2b2b83b8-4c36-11ee-ae5e-02054d71b90c.jpg\n",
      "Collecting images for ronaldo, image number 5\n",
      "data/images/ronaldo.2b2b867e-4c36-11ee-ae5e-02054d71b90c.jpg\n",
      "Collecting images for ronaldo, image number 6\n",
      "data/images/ronaldo.2b2b89c6-4c36-11ee-ae5e-02054d71b90c.jpg\n",
      "Collecting images for ronaldo, image number 7\n",
      "data/images/ronaldo.2b2b8dae-4c36-11ee-ae5e-02054d71b90c.jpg\n",
      "Collecting images for ronaldo, image number 8\n",
      "data/images/ronaldo.2b2b91dc-4c36-11ee-ae5e-02054d71b90c.jpg\n",
      "Collecting images for ronaldo, image number 9\n",
      "data/images/ronaldo.2b2b9600-4c36-11ee-ae5e-02054d71b90c.jpg\n",
      "Collecting images for ronaldo, image number 10\n",
      "data/images/ronaldo.2b2b988a-4c36-11ee-ae5e-02054d71b90c.jpg\n",
      "Collecting images for ronaldo, image number 11\n",
      "data/images/ronaldo.2b2b9ae2-4c36-11ee-ae5e-02054d71b90c.jpg\n",
      "Collecting images for ronaldo, image number 12\n",
      "data/images/ronaldo.2b2b9d26-4c36-11ee-ae5e-02054d71b90c.jpg\n",
      "Collecting images for ronaldo, image number 13\n",
      "data/images/ronaldo.2b2b9f9c-4c36-11ee-ae5e-02054d71b90c.jpg\n",
      "Collecting images for ronaldo, image number 14\n",
      "data/images/ronaldo.2b2baed8-4c36-11ee-ae5e-02054d71b90c.jpg\n",
      "Collecting images for ronaldo, image number 15\n",
      "data/images/ronaldo.2b2bb342-4c36-11ee-ae5e-02054d71b90c.jpg\n",
      "Collecting images for ronaldo, image number 16\n",
      "data/images/ronaldo.2b2bb612-4c36-11ee-ae5e-02054d71b90c.jpg\n",
      "Collecting images for ronaldo, image number 17\n",
      "data/images/ronaldo.2b2bb9c8-4c36-11ee-ae5e-02054d71b90c.jpg\n",
      "Collecting images for ronaldo, image number 18\n",
      "data/images/ronaldo.2b2bbd9c-4c36-11ee-ae5e-02054d71b90c.jpg\n",
      "Collecting images for ronaldo, image number 19\n",
      "data/images/ronaldo.2b2bc1f2-4c36-11ee-ae5e-02054d71b90c.jpg\n",
      "Collecting images for ronaldo, image number 20\n",
      "data/images/ronaldo.2b2bc5ee-4c36-11ee-ae5e-02054d71b90c.jpg\n",
      "Collecting images for ronaldo, image number 21\n",
      "data/images/ronaldo.2b2bc8f0-4c36-11ee-ae5e-02054d71b90c.jpg\n",
      "Collecting images for ronaldo, image number 22\n",
      "data/images/ronaldo.2b2bcbde-4c36-11ee-ae5e-02054d71b90c.jpg\n",
      "Collecting images for ronaldo, image number 23\n",
      "data/images/ronaldo.2b2bce90-4c36-11ee-ae5e-02054d71b90c.jpg\n",
      "Collecting images for ronaldo, image number 24\n",
      "data/images/ronaldo.2b2bd1d8-4c36-11ee-ae5e-02054d71b90c.jpg\n",
      "Collecting images for ronaldo, image number 25\n",
      "data/images/ronaldo.2b2bd598-4c36-11ee-ae5e-02054d71b90c.jpg\n",
      "Collecting images for ronaldo, image number 26\n",
      "data/images/ronaldo.2b2be09c-4c36-11ee-ae5e-02054d71b90c.jpg\n",
      "Collecting images for ronaldo, image number 27\n",
      "data/images/ronaldo.2b2be3a8-4c36-11ee-ae5e-02054d71b90c.jpg\n",
      "Collecting images for ronaldo, image number 28\n",
      "data/images/ronaldo.2b2be5f6-4c36-11ee-ae5e-02054d71b90c.jpg\n",
      "Collecting images for ronaldo, image number 29\n",
      "data/images/ronaldo.2b2be84e-4c36-11ee-ae5e-02054d71b90c.jpg\n",
      "Collecting images for neymar\n",
      "Collecting images for neymar, image number 0\n",
      "data/images/neymar.2b2becea-4c36-11ee-ae5e-02054d71b90c.jpg\n",
      "Collecting images for neymar, image number 1\n",
      "data/images/neymar.2b2bef6a-4c36-11ee-ae5e-02054d71b90c.jpg\n",
      "Collecting images for neymar, image number 2\n",
      "data/images/neymar.2b2bf1c2-4c36-11ee-ae5e-02054d71b90c.jpg\n",
      "Collecting images for neymar, image number 3\n",
      "data/images/neymar.2b2bf50a-4c36-11ee-ae5e-02054d71b90c.jpg\n",
      "Collecting images for neymar, image number 4\n",
      "data/images/neymar.2b2bf85c-4c36-11ee-ae5e-02054d71b90c.jpg\n",
      "Collecting images for neymar, image number 5\n",
      "data/images/neymar.2b2bfa96-4c36-11ee-ae5e-02054d71b90c.jpg\n",
      "Collecting images for neymar, image number 6\n",
      "data/images/neymar.2b2bfcbc-4c36-11ee-ae5e-02054d71b90c.jpg\n",
      "Collecting images for neymar, image number 7\n",
      "data/images/neymar.2b2bff50-4c36-11ee-ae5e-02054d71b90c.jpg\n",
      "Collecting images for neymar, image number 8\n",
      "data/images/neymar.2b2c01c6-4c36-11ee-ae5e-02054d71b90c.jpg\n",
      "Collecting images for neymar, image number 9\n",
      "data/images/neymar.2b2c0432-4c36-11ee-ae5e-02054d71b90c.jpg\n",
      "Collecting images for neymar, image number 10\n",
      "data/images/neymar.2b2c06b2-4c36-11ee-ae5e-02054d71b90c.jpg\n",
      "Collecting images for neymar, image number 11\n",
      "data/images/neymar.2b2c0ffe-4c36-11ee-ae5e-02054d71b90c.jpg\n",
      "Collecting images for neymar, image number 12\n",
      "data/images/neymar.2b2c228c-4c36-11ee-ae5e-02054d71b90c.jpg\n",
      "Collecting images for neymar, image number 13\n",
      "data/images/neymar.2b2c2552-4c36-11ee-ae5e-02054d71b90c.jpg\n",
      "Collecting images for neymar, image number 14\n",
      "data/images/neymar.2b2c26f6-4c36-11ee-ae5e-02054d71b90c.jpg\n",
      "Collecting images for neymar, image number 15\n",
      "data/images/neymar.2b2c2890-4c36-11ee-ae5e-02054d71b90c.jpg\n",
      "Collecting images for neymar, image number 16\n",
      "data/images/neymar.2b2c2a20-4c36-11ee-ae5e-02054d71b90c.jpg\n",
      "Collecting images for neymar, image number 17\n",
      "data/images/neymar.2b2c2bba-4c36-11ee-ae5e-02054d71b90c.jpg\n",
      "Collecting images for neymar, image number 18\n",
      "data/images/neymar.2b2c2d54-4c36-11ee-ae5e-02054d71b90c.jpg\n",
      "Collecting images for neymar, image number 19\n",
      "data/images/neymar.2b2c2ee4-4c36-11ee-ae5e-02054d71b90c.jpg\n",
      "Collecting images for neymar, image number 20\n",
      "data/images/neymar.2b2c309c-4c36-11ee-ae5e-02054d71b90c.jpg\n",
      "Collecting images for neymar, image number 21\n",
      "data/images/neymar.2b2c3236-4c36-11ee-ae5e-02054d71b90c.jpg\n",
      "Collecting images for neymar, image number 22\n",
      "data/images/neymar.2b2c33da-4c36-11ee-ae5e-02054d71b90c.jpg\n",
      "Collecting images for neymar, image number 23\n",
      "data/images/neymar.2b2c356a-4c36-11ee-ae5e-02054d71b90c.jpg\n",
      "Collecting images for neymar, image number 24\n",
      "data/images/neymar.2b2c3722-4c36-11ee-ae5e-02054d71b90c.jpg\n",
      "Collecting images for neymar, image number 25\n",
      "data/images/neymar.2b2c430c-4c36-11ee-ae5e-02054d71b90c.jpg\n",
      "Collecting images for neymar, image number 26\n",
      "data/images/neymar.2b2c4578-4c36-11ee-ae5e-02054d71b90c.jpg\n",
      "Collecting images for neymar, image number 27\n",
      "data/images/neymar.2b2c4744-4c36-11ee-ae5e-02054d71b90c.jpg\n",
      "Collecting images for neymar, image number 28\n",
      "data/images/neymar.2b2c48d4-4c36-11ee-ae5e-02054d71b90c.jpg\n",
      "Collecting images for neymar, image number 29\n",
      "data/images/neymar.2b2c4a50-4c36-11ee-ae5e-02054d71b90c.jpg\n"
     ]
    }
   ],
   "source": [
    "for label in labels:\n",
    "    print('Collecting images for {}'.format(label))\n",
    "    for img_num in range(number_imgs):\n",
    "        print('Collecting images for {}, image number {}'.format(label, img_num))\n",
    "        imgname = os.path.join(IMAGES_PATH, label+'.'+str(uuid.uuid1())+'.jpg')\n",
    "        print(imgname)"
   ]
  },
  {
   "cell_type": "code",
   "execution_count": 10,
   "id": "4ca44ae4",
   "metadata": {
    "collapsed": true
   },
   "outputs": [
    {
     "name": "stdout",
     "output_type": "stream",
     "text": [
      "Cloning into 'labelImg'...\n",
      "remote: Enumerating objects: 2097, done.\u001b[K\n",
      "remote: Counting objects: 100% (7/7), done.\u001b[K\n",
      "remote: Compressing objects: 100% (7/7), done.\u001b[K\n",
      "remote: Total 2097 (delta 0), reused 4 (delta 0), pack-reused 2090\u001b[K\n",
      "Receiving objects: 100% (2097/2097), 237.14 MiB | 4.93 MiB/s, done.\n",
      "Resolving deltas: 100% (1245/1245), done.\n"
     ]
    }
   ],
   "source": [
    "#!git clone https://github.com/tzutalin/labelImg"
   ]
  },
  {
   "cell_type": "code",
   "execution_count": 4,
   "id": "7d593a4c",
   "metadata": {},
   "outputs": [],
   "source": [
    "#!pip install pyqt5 lxml --upgrade\n",
    "#!cd labelImg && pyrcc5 -o libs/resources.py resources.qrc"
   ]
  },
  {
   "cell_type": "code",
   "execution_count": 3,
   "id": "89292090",
   "metadata": {},
   "outputs": [],
   "source": [
    "#!cd yolov5 && python train.py --img 320 --batch 16 --epochs 250 --data dataset.yml --weights yolov5s.pt --workers 2"
   ]
  },
  {
   "cell_type": "code",
   "execution_count": null,
   "id": "47b53487",
   "metadata": {},
   "outputs": [],
   "source": [
    "# LOAD MODEL"
   ]
  },
  {
   "cell_type": "code",
   "execution_count": 5,
   "id": "32031755",
   "metadata": {},
   "outputs": [
    {
     "name": "stderr",
     "output_type": "stream",
     "text": [
      "Downloading: \"https://github.com/ultralytics/yolov5/zipball/master\" to /Users/barbaragdias/.cache/torch/hub/master.zip\n",
      "YOLOv5 🚀 2023-9-7 Python-3.9.12 torch-2.0.1 CPU\n",
      "\n",
      "Fusing layers... \n",
      "Model summary: 157 layers, 7058671 parameters, 0 gradients, 15.9 GFLOPs\n",
      "Adding AutoShape... \n"
     ]
    }
   ],
   "source": [
    "model = torch.hub.load('ultralytics/yolov5', 'custom', path='yolov5/runs/train/exp8/weights/last.pt', force_reload =True)"
   ]
  },
  {
   "cell_type": "code",
   "execution_count": 17,
   "id": "9f4eaf23",
   "metadata": {},
   "outputs": [],
   "source": [
    "img = os.path.join('data', 'images')"
   ]
  },
  {
   "cell_type": "code",
   "execution_count": 15,
   "id": "ed17ea1d",
   "metadata": {},
   "outputs": [
    {
     "name": "stderr",
     "output_type": "stream",
     "text": [
      "OpenCV: Couldn't read video stream from file \"ronaldo.mp4\"\n"
     ]
    }
   ],
   "source": [
    "cap = cv2.VideoCapture(\"ronaldo.mp4\")\n",
    "while cap.isOpened():\n",
    "    ret, frame = cap.read()\n",
    "\n",
    "    results= model(frame)\n",
    "\n",
    "    cv2.imshow('YOLO', np.squeeze(results.render()))\n",
    "\n",
    "    if cv2.waitKey(10) & 0xFF == ord('q'):\n",
    "        break\n",
    "cap.release()\n",
    "cv2.destroyAllWindows()"
   ]
  },
  {
   "cell_type": "code",
   "execution_count": 6,
   "id": "dec81c9f",
   "metadata": {},
   "outputs": [
    {
     "name": "stderr",
     "output_type": "stream",
     "text": [
      "image 1/1: 360x640 1 ronaldo\n",
      "Speed: 17.6ms pre-process, 90.5ms inference, 1.9ms NMS per image at shape (1, 3, 384, 640)\n"
     ]
    },
    {
     "data": {
      "image/png": "[encoded data removed]",
      "text/plain": [
       "<Figure size 432x288 with 1 Axes>"
      ]
     },
     "metadata": {
      "needs_background": "light"
     },
     "output_type": "display_data"
    }
   ],
   "source": [
    "img = '/Users/barbaragdias/Desktop/Scout_Master/data/images/_99542912_gettyimages-902312588.jpg'\n",
    "results = model(img)\n",
    "results.print()\n",
    "\n",
    "%matplotlib inline\n",
    "plt.imshow(np.squeeze(results.render()))\n",
    "plt.show()"
   ]
  },
  {
   "cell_type": "code",
   "execution_count": 28,
   "id": "8177456a",
   "metadata": {},
   "outputs": [],
   "source": [
    "### Detecting images on the video and save labeled frames\n",
    "\n",
    "def label_frame(player):\n",
    "    video_path = f\"yolov5/{player}.mp4\"\n",
    "    cap = cv2.VideoCapture(video_path)\n",
    "\n",
    "    model.conf = 0.20\n",
    "    i = 0\n",
    "\n",
    "    while cap.isOpened():\n",
    "        ret, frame = cap.read()\n",
    "        if not ret:\n",
    "            break\n",
    "\n",
    "        results = model(frame)\n",
    "\n",
    "        np.squeeze(results.render())\n",
    "\n",
    "        #cv2.imshow(\"ScoutMaster\", np.squeeze(results.render())) #this only shows live labeling\n",
    "        cv2.imwrite(f\"frames/{i}.png\", frame)\n",
    "\n",
    "        i+= 1\n",
    "\n",
    "        if cv2.waitKey(10) & 0xFF == ord(\"q\"):\n",
    "            break\n",
    "    cap.release()\n",
    "    cv2.destroyAllWindows()"
   ]
  },
  {
   "cell_type": "code",
   "execution_count": 26,
   "id": "3c73083e",
   "metadata": {},
   "outputs": [],
   "source": [
    "def delete_frames(folder_path=\"frames\"):\n",
    "    # Check if the folder exists\n",
    "    if os.path.exists(folder_path) and os.path.isdir(folder_path):\n",
    "        # Get a list of all files in the folder\n",
    "        files = os.listdir(folder_path)\n",
    "\n",
    "        # Loop through the files and delete only files (not subdirectories)\n",
    "        for file in files:\n",
    "            file_path = os.path.join(folder_path, file)\n",
    "            \n",
    "            # Check if the path is a file (not a subdirectory) before attempting to delete\n",
    "            if os.path.isfile(file_path):\n",
    "                try:\n",
    "                    os.remove(file_path)\n",
    "\n",
    "                except Exception as e:\n",
    "                    pass\n",
    "\n",
    "    else:\n",
    "        pass"
   ]
  },
  {
   "cell_type": "code",
   "execution_count": 29,
   "id": "47beb7d0",
   "metadata": {},
   "outputs": [
    {
     "name": "stderr",
     "output_type": "stream",
     "text": [
      "OpenCV: FFMPEG: tag 0x44495658/'XVID' is not supported with codec id 12 and format 'mp4 / MP4 (MPEG-4 Part 14)'\n",
      "OpenCV: FFMPEG: fallback to use tag 0x7634706d/'mp4v'\n"
     ]
    }
   ],
   "source": [
    "def img_to_video(name=\"output_video.mp4\", fps=30):\n",
    "    \n",
    "    image_dir = \"frames\"\n",
    "    # Get a list of image files in the directory\n",
    "    image_files = [os.path.join(image_dir, file) for file in sorted(os.listdir(image_dir)) if file.endswith(('.jpg', '.png', '.jpeg'))]\n",
    "    image_files = sorted(image_files, key= lambda fname: int(fname.replace(\"frames/\",\"\").split(\".\")[0]))\n",
    "\n",
    "    # Check if there are image files to process\n",
    "    if len(image_files) == 0:\n",
    "        raise Exception(\"No image files found in the directory\")\n",
    "\n",
    "    # Load the first image to get dimensions\n",
    "    first_image = cv2.imread(image_files[0])\n",
    "    height, width, layers = first_image.shape\n",
    "\n",
    "    # Define the codec and create a VideoWriter object\n",
    "    fourcc = cv2.VideoWriter_fourcc(*'XVID')\n",
    "    output_video = cv2.VideoWriter(name, fourcc, fps, (width, height))\n",
    "\n",
    "    # Iterate through the image files and write them to the video\n",
    "    for image_file in image_files:\n",
    "        frame = cv2.imread(image_file)\n",
    "        output_video.write(frame)\n",
    "\n",
    "    # Release the VideoWriter and close any open windows (if any)\n",
    "    output_video.release()\n",
    "    cv2.destroyAllWindows()\n",
    "    \n",
    "    #now we just need to delete content from frames\n",
    "    delete_frames()\n",
    "\n",
    "print(\"\\n\")\n",
    "print(\"\\n\")\n",
    "print(\"\\n\")\n",
    "\n",
    "print(\"WELCOME TO SCOUT MASTER\")\n",
    "print(\"\\n\")\n",
    "player = str(input(\"Choose between Messi, Ronaldo or Neymar\"))\n",
    "\n",
    "label_frame(player=player)\n",
    "img_to_video()\n",
    "\n",
    "print(\"Labeling done, check your folder!\")\n"
   ]
  }
 ],
 "metadata": {
  "kernelspec": {
   "display_name": "Python 3 (ipykernel)",
   "language": "python",
   "name": "python3"
  },
  "language_info": {
   "codemirror_mode": {
    "name": "ipython",
    "version": 3
   },
   "file_extension": ".py",
   "mimetype": "text/x-python",
   "name": "python",
   "nbconvert_exporter": "python",
   "pygments_lexer": "ipython3",
   "version": "3.10.9"
  }
 },
 "nbformat": 4,
 "nbformat_minor": 5
}
